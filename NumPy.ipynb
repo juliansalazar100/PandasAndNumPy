{
 "cells": [
  {
   "cell_type": "markdown",
   "id": "4ddd5afb-6322-4b93-a065-b54917843995",
   "metadata": {},
   "source": [
    "## Part 1\n",
    "\n",
    "### Introduction to NumPy\n",
    "\n",
    "#### What is NumPy\n",
    "\n",
    "NumPy is a Python library used for numerical computing. It supports large, multi-dimensional arrays and matrices and a collection of mathematical functions to operate on these arrays efficiently.\n",
    "\n",
    "#### Why is NumPy important in Data Science?\n",
    "\n",
    "NumPy is essential in  Data Science due to its ability to handle large data sets efficiently. It provides high performance multidimensional arrays and tools for working with these arrays, making it indispensable for tasks like data manipulation, analysis, and machine learning. "
   ]
  },
  {
   "cell_type": "code",
   "execution_count": 3,
   "id": "57993037-45b8-4e12-b982-07bc7da0304f",
   "metadata": {},
   "outputs": [
    {
     "name": "stdout",
     "output_type": "stream",
     "text": [
      "Requirement already satisfied: numpy in c:\\users\\julia\\anaconda3\\lib\\site-packages (1.26.4)\n"
     ]
    }
   ],
   "source": [
    "# Installation and setup \n",
    "\n",
    "!pip install numpy\n"
   ]
  },
  {
   "cell_type": "code",
   "execution_count": 14,
   "id": "2d62e939-7d65-4e8f-8fef-e2110d90558d",
   "metadata": {},
   "outputs": [
    {
     "name": "stdout",
     "output_type": "stream",
     "text": [
      "Array from list:\n",
      " [1 2 3 4 5]\n",
      "Array of zeros:\n",
      " [0. 0. 0. 0. 0.]\n",
      "3x3 Array of ones:\n",
      " [[1. 1. 1.]\n",
      " [1. 1. 1.]\n",
      " [1. 1. 1.]]\n",
      "Array with values ranging from 0 to 10 with a step of 12:\n",
      " [0]\n",
      "3x3 Array of random values:\n",
      " [[0.48009881 0.17751879 0.09635787]\n",
      " [0.61068463 0.97508596 0.8301523 ]\n",
      " [0.75388856 0.61803462 0.40799539]]\n"
     ]
    }
   ],
   "source": [
    "# Import the numpy library\n",
    "import numpy as np\n",
    "\n",
    "# Create an array from a list\n",
    "arr1 = np.array([1, 2, 3, 4, 5])\n",
    "print(\"Array from list:\\n\", arr1)\n",
    "\n",
    "# Create an array of zeros with 5 elements\n",
    "arr2 = np.zeros(5)\n",
    "print(\"Array of zeros:\\n\", arr2)\n",
    "\n",
    "# Create a 3x3 array of ones\n",
    "arr3 = np.ones((3, 3))\n",
    "print(\"3x3 Array of ones:\\n\", arr3)\n",
    "\n",
    "# Create an array with values ranging from 0 to 10 with a step of 12 (only the start value will be included as step is greater than the range)\n",
    "arr4 = np.arange(0, 10, 12)\n",
    "print(\"Array with values ranging from 0 to 10 with a step of 12:\\n\", arr4)\n",
    "\n",
    "# Create a 3x3 array of random values between 0 and 1\n",
    "arr5 = np.random.rand(3, 3)\n",
    "print(\"3x3 Array of random values:\\n\", arr5)\n"
   ]
  },
  {
   "cell_type": "code",
   "execution_count": 15,
   "id": "c9b9aa1a-ab75-40ce-b6b2-e393d9aa27bf",
   "metadata": {},
   "outputs": [
    {
     "name": "stdout",
     "output_type": "stream",
     "text": [
      "(5,)\n",
      "5\n",
      "int32\n"
     ]
    }
   ],
   "source": [
    "# Array atributes: shape, size, dtype\n",
    "\n",
    "# Shape of the array\n",
    "print(arr1.shape) #rows and columns\n",
    "\n",
    "# Size of the array\n",
    "print(arr1.size) #number of elements\n",
    "\n",
    "#Data type of the array\n",
    "print(arr1.dtype)"
   ]
  },
  {
   "cell_type": "code",
   "execution_count": 16,
   "id": "82cf132e-613d-4981-b99a-cfadd9f8e433",
   "metadata": {},
   "outputs": [
    {
     "name": "stdout",
     "output_type": "stream",
     "text": [
      "1\n",
      "[2 3 4]\n"
     ]
    }
   ],
   "source": [
    "# Indexing and slicing arrays\n",
    "\n",
    "# Accessing elements\n",
    "print(arr1[0])\n",
    "\n",
    "# Slicing \n",
    "print(arr1[1:4])"
   ]
  },
  {
   "cell_type": "code",
   "execution_count": 19,
   "id": "81a02900-f133-4667-9c13-948b61256b64",
   "metadata": {},
   "outputs": [
    {
     "name": "stdout",
     "output_type": "stream",
     "text": [
      "[1. 2. 3. 4. 5.]\n",
      "15\n",
      "[ 2  4  6  8 10]\n"
     ]
    }
   ],
   "source": [
    "# Array operation: arithmetic, agggregation, broadcasting\n",
    "\n",
    "# Arithmetic operations\n",
    "arr6=arr1+arr2\n",
    "print(arr6)\n",
    "\n",
    "# Aggregation function\n",
    "\n",
    "print(np.sum(arr1))\n",
    "\n",
    "# Broadcasting\n",
    "\n",
    "arr7=arr1*2\n",
    "print(arr7)"
   ]
  },
  {
   "cell_type": "code",
   "execution_count": 23,
   "id": "d4538253-a414-4a4d-a4ec-72fb571f0292",
   "metadata": {},
   "outputs": [
    {
     "name": "stdout",
     "output_type": "stream",
     "text": [
      "[[0 1 2]\n",
      " [3 4 5]\n",
      " [6 7 8]]\n"
     ]
    }
   ],
   "source": [
    "# Reshaping arrays\n",
    "\n",
    "# Reshape array\n",
    "\n",
    "arr8=np.arange(9).reshape(3,3)\n",
    "print(arr8)"
   ]
  },
  {
   "cell_type": "code",
   "execution_count": 27,
   "id": "79b7a262-8a7f-4cfe-ba63-7820f82eedca",
   "metadata": {},
   "outputs": [
    {
     "name": "stdout",
     "output_type": "stream",
     "text": [
      "Stacked vertically (vstack):\n",
      " [[0 1 2]\n",
      " [3 4 5]\n",
      " [6 7 8]\n",
      " [0 1 2]\n",
      " [3 4 5]\n",
      " [6 7 8]]\n",
      "\n",
      "Split arrays:\n",
      " [[0 1 2]\n",
      " [3 4 5]\n",
      " [6 7 8]] \n",
      " [[0 1 2]\n",
      " [3 4 5]\n",
      " [6 7 8]]\n"
     ]
    }
   ],
   "source": [
    "# Stacking and splitting arrays\n",
    "\n",
    "\n",
    "\n",
    "# Stacking arrays vertically\n",
    "arr9 = np.vstack((arr8, arr8))  # Stack arr8 on top of itself\n",
    "print(\"Stacked vertically (vstack):\\n\", arr9)\n",
    "\n",
    "# Splitting arrays\n",
    "arr10, arr11 = np.split(arr9, 2)  # Split arr9 into 2 equal parts\n",
    "print(\"\\nSplit arrays:\\n\", arr10, \"\\n\", arr11)\n"
   ]
  },
  {
   "cell_type": "code",
   "execution_count": 31,
   "id": "a53140af-190a-4597-a1a3-83c167aabff6",
   "metadata": {},
   "outputs": [
    {
     "name": "stdout",
     "output_type": "stream",
     "text": [
      "Array 8 Transpose\n",
      " [[0 3 6]\n",
      " [1 4 7]\n",
      " [2 5 8]]\n",
      "\n",
      "Array 8\n",
      " [[0 1 2]\n",
      " [3 4 5]\n",
      " [6 7 8]]\n"
     ]
    }
   ],
   "source": [
    "# Transposing arrays\n",
    "# Transpose array \n",
    "\n",
    "arr12=arr8.T\n",
    "print(\"Array 8 Transpose\\n\",arr12)\n",
    "print(\"\\nArray 8\\n\",arr8)"
   ]
  },
  {
   "cell_type": "code",
   "execution_count": 33,
   "id": "16fe9707-2e7e-4acc-b38e-7e6e027060a6",
   "metadata": {},
   "outputs": [
    {
     "name": "stdout",
     "output_type": "stream",
     "text": [
      "sin of array 1\n",
      " [ 0.84147098  0.90929743  0.14112001 -0.7568025  -0.95892427]\n",
      "\n",
      "array 1\n",
      " [1 2 3 4 5]\n"
     ]
    }
   ],
   "source": [
    "# Universal functions (ufuncs)\n",
    "# Universal funcions\n",
    "\n",
    "arr13=np.sin(arr1)\n",
    "print(\"sin of array 1\\n\", arr13)\n",
    "print(\"\\narray 1\\n\", arr1)"
   ]
  },
  {
   "cell_type": "code",
   "execution_count": 38,
   "id": "8d2cde22-d1db-4c36-8a7f-020dae3e1baa",
   "metadata": {},
   "outputs": [
    {
     "name": "stdout",
     "output_type": "stream",
     "text": [
      "[1 3 5]\n"
     ]
    }
   ],
   "source": [
    "# Fancy indexing\n",
    "indices=np.array([0,2,4])\n",
    "\n",
    "print(arr1[indices])"
   ]
  },
  {
   "cell_type": "code",
   "execution_count": 48,
   "id": "adbb5cdb-45ea-4e56-8316-a67c90d3a625",
   "metadata": {},
   "outputs": [
    {
     "name": "stdout",
     "output_type": "stream",
     "text": [
      "Boolean array: [False False  True  True  True]\n",
      "Elements in arr1 greater than 2: [3 4 5]\n"
     ]
    }
   ],
   "source": [
    "# Boolean indexing\n",
    "\n",
    "# Create an array from a list\n",
    "arr1 = np.array([1, 2, 3, 4, 5])\n",
    "\n",
    "# Boolean indexing\n",
    "bool_arr = arr1 > 2  # Create a boolean array where each element indicates if the corresponding element in arr1 is greater than 2\n",
    "print(\"Boolean array:\", bool_arr)\n",
    "\n",
    "# Print elements in arr1 that are greater than 2 using the boolean array\n",
    "print(\"Elements in arr1 greater than 2:\", arr1[bool_arr])"
   ]
  },
  {
   "cell_type": "code",
   "execution_count": 49,
   "id": "10cc16f7-eca5-4975-abd8-681e4b1dbd10",
   "metadata": {},
   "outputs": [
    {
     "name": "stdout",
     "output_type": "stream",
     "text": [
      "[11 12 13 14 15]\n"
     ]
    }
   ],
   "source": [
    "# Vectorized operation\n",
    "\n",
    "arr14=arr1+10\n",
    "print(arr14)"
   ]
  },
  {
   "cell_type": "code",
   "execution_count": 50,
   "id": "05926f9c-e265-4dc9-b7cf-1d1b9e924a46",
   "metadata": {},
   "outputs": [
    {
     "name": "stdout",
     "output_type": "stream",
     "text": [
      "[[11 12 13 14 15]\n",
      " [21 22 23 24 25]\n",
      " [31 32 33 34 35]\n",
      " [41 42 43 44 45]\n",
      " [51 52 53 54 55]]\n"
     ]
    }
   ],
   "source": [
    "# Broadcasting\n",
    "arr15=arr1+np.array([\n",
    "    [10],\n",
    "    [20],\n",
    "    [30],\n",
    "    [40],\n",
    "    [50]\n",
    "])\n",
    "\n",
    "print(arr15)"
   ]
  },
  {
   "cell_type": "markdown",
   "id": "e3b2b9f2-a69d-4584-9a0d-f26972226dbd",
   "metadata": {},
   "source": [
    "## Part 2\n",
    "\n",
    "### Introduction to Pandas\n",
    "\n",
    "#### Pandas\n",
    "\n",
    "Pandas is a powerful data manipulation and analysis library built on top of NumPy. It provides a high-level data structures like Series and DataFrame designed to efficiently handle structured data. \n",
    "\n",
    "#### Series and DataFrame Objects\r\n",
    "\r\n",
    "Pandas has two main data structures:\r\n",
    "\r\n",
    "1. **Series**: A one-dimensional array-like object that can hold any data type.\r\n",
    "2. **DataFrame**: A two-dimensional labeled data structure with columns of potentially different data types.\r\n",
    "\n",
    "\n",
    "#### Importance\n",
    "\n",
    "Pandas is essential in data analysis tasks as it simplifies many common data manipulation tasks such as cleaning, transformation, and exploration. It provides intuitive and flexible tools for working with structured data. "
   ]
  },
  {
   "cell_type": "code",
   "execution_count": 52,
   "id": "404fa412-ef1e-4dbd-8fde-c690321c6bb7",
   "metadata": {},
   "outputs": [
    {
     "name": "stdout",
     "output_type": "stream",
     "text": [
      "Requirement already satisfied: pandas in c:\\users\\julia\\anaconda3\\lib\\site-packages (2.1.4)\n",
      "Requirement already satisfied: numpy<2,>=1.23.2 in c:\\users\\julia\\anaconda3\\lib\\site-packages (from pandas) (1.26.4)\n",
      "Requirement already satisfied: python-dateutil>=2.8.2 in c:\\users\\julia\\anaconda3\\lib\\site-packages (from pandas) (2.8.2)\n",
      "Requirement already satisfied: pytz>=2020.1 in c:\\users\\julia\\anaconda3\\lib\\site-packages (from pandas) (2023.3.post1)\n",
      "Requirement already satisfied: tzdata>=2022.1 in c:\\users\\julia\\anaconda3\\lib\\site-packages (from pandas) (2023.3)\n",
      "Requirement already satisfied: six>=1.5 in c:\\users\\julia\\anaconda3\\lib\\site-packages (from python-dateutil>=2.8.2->pandas) (1.16.0)\n"
     ]
    }
   ],
   "source": [
    "# Installation and setup\n",
    "!pip install pandas"
   ]
  },
  {
   "cell_type": "code",
   "execution_count": 56,
   "id": "0b771818-6c90-4efe-a480-7d906ed0bea7",
   "metadata": {},
   "outputs": [
    {
     "name": "stdout",
     "output_type": "stream",
     "text": [
      "Series 1:\n",
      " 0    1\n",
      "1    2\n",
      "2    3\n",
      "3    4\n",
      "4    5\n",
      "dtype: int64\n",
      "\n",
      "Series 2:\n",
      " 0    1\n",
      "1    2\n",
      "2    3\n",
      "3    4\n",
      "4    5\n",
      "dtype: int32\n",
      "\n",
      "Series 3:\n",
      " a    1\n",
      "b    2\n",
      "c    3\n",
      "dtype: int64\n"
     ]
    }
   ],
   "source": [
    "# Creating Series objects\n",
    "\n",
    "import pandas as pd\n",
    "\n",
    "# Create series from a list\n",
    "\n",
    "s1=pd.Series([1,2,3,4,5])\n",
    "\n",
    "print(\"Series 1:\\n\",s1)\n",
    "\n",
    "#  Create series from an array\n",
    "\n",
    "s2=pd.Series(np.array([1,2,3,4,5]))\n",
    "print(\"\\nSeries 2:\\n\",s2)\n",
    "\n",
    "# Create series from a dictionary\n",
    "\n",
    "s3=pd.Series({\"a\":1,\n",
    "              \"b\":2,\n",
    "              \"c\":3})\n",
    "\n",
    "print(\"\\nSeries 3:\\n\",s3)\n",
    "\n",
    "\n"
   ]
  },
  {
   "cell_type": "code",
   "execution_count": 58,
   "id": "39138c31-5746-4708-acdd-12fdf1ad13cf",
   "metadata": {},
   "outputs": [
    {
     "name": "stdout",
     "output_type": "stream",
     "text": [
      "1\n",
      "1\n",
      "a    1\n",
      "b    2\n",
      "dtype: int64\n"
     ]
    }
   ],
   "source": [
    "# Indexing and slicing Series\n",
    "\n",
    "# Accessing elements by label\n",
    "print(s3[\"a\"])  # Prints the element with label \"a\"\n",
    "\n",
    "# Accessing elements by position using .iloc (to avoid the FutureWarning)\n",
    "print(s3.iloc[0])  # Prints the element at position 0 (first element)\n",
    "\n",
    "# Slicing\n",
    "print(s3[:2])  # Prints the first two elements of the Series"
   ]
  },
  {
   "cell_type": "code",
   "execution_count": 61,
   "id": "5b07c7eb-aa95-4e34-a4bc-ca099390640d",
   "metadata": {},
   "outputs": [
    {
     "name": "stdout",
     "output_type": "stream",
     "text": [
      "Arithmetic operations\n",
      " 0     2\n",
      "1     4\n",
      "2     6\n",
      "3     8\n",
      "4    10\n",
      "dtype: int64\n",
      "\n",
      "Element-wise operations\n",
      " 0     2\n",
      "1     4\n",
      "2     6\n",
      "3     8\n",
      "4    10\n",
      "dtype: int64\n",
      "\n",
      "Agregation function\n",
      " 15\n"
     ]
    }
   ],
   "source": [
    "# Operations on Series\n",
    "\n",
    "# Arithmetic operations\n",
    "s4=s1+s2\n",
    "print(\"Arithmetic operations\\n\", s4)\n",
    "# Element-wise operations\n",
    "s5=s1*2\n",
    "print(\"\\nElement-wise operations\\n\", s5)\n",
    "\n",
    "# Aggregation function\n",
    "\n",
    "print(\"\\nAgregation function\\n\", s1.sum())"
   ]
  },
  {
   "cell_type": "code",
   "execution_count": 62,
   "id": "3aa34099-cdd9-48e2-a3cc-adda254cc59c",
   "metadata": {},
   "outputs": [
    {
     "name": "stdout",
     "output_type": "stream",
     "text": [
      "0    False\n",
      "1    False\n",
      "2    False\n",
      "3    False\n",
      "4    False\n",
      "dtype: bool\n"
     ]
    }
   ],
   "source": [
    "#Handling missing data\n",
    "# Drop missing values\n",
    "\n",
    "s6 = s1.dropna()\n",
    "\n",
    "# Fill missing values\n",
    "\n",
    "s7 = s1.fillna(0)\n",
    "\n",
    "# Check for missing values\n",
    "\n",
    "print(s1.isnull())"
   ]
  },
  {
   "cell_type": "code",
   "execution_count": 64,
   "id": "04a10704-ec97-4e10-aa7d-983900a73a1e",
   "metadata": {},
   "outputs": [],
   "source": [
    "#Creating DataFrames\n",
    "# Create DataFrame from a dictionary\n",
    "\n",
    "data = {'Name': ['Alice', 'Bob', 'Charlie'],\n",
    " 'Age': [25, 30, 35]}\n",
    "\n",
    "df1 = pd.DataFrame(data)\n",
    "\n",
    "# Create DataFrame from a list of lists\n",
    "\n",
    "data = [['Alice', 25], ['Bob', 30], ['Charlie', 35]]\n",
    "\n",
    "df2 = pd.DataFrame(data, columns=['Name', 'Age'])"
   ]
  },
  {
   "cell_type": "code",
   "execution_count": 65,
   "id": "854a7a6c-6bda-447b-a704-a9f33974afdf",
   "metadata": {},
   "outputs": [
    {
     "name": "stdout",
     "output_type": "stream",
     "text": [
      "Alice\n",
      "Alice\n",
      "    Name  Age\n",
      "0  Alice   25\n",
      "1    Bob   30\n"
     ]
    }
   ],
   "source": [
    "#Indexing and slicing DataFrames\n",
    "\n",
    "# Label-based indexing\n",
    "\n",
    "print(df1.loc[0, 'Name'])\n",
    "\n",
    "# Position-based indexing\n",
    "\n",
    "print(df1.iloc[0, 0])\n",
    "\n",
    "# Slicing\n",
    "\n",
    "print(df1[:2])"
   ]
  },
  {
   "cell_type": "code",
   "execution_count": 66,
   "id": "5d3238a3-e183-4659-8ac4-8112a06b0e75",
   "metadata": {},
   "outputs": [
    {
     "name": "stdout",
     "output_type": "stream",
     "text": [
      "      Name  Age\n",
      "0    Alice   25\n",
      "1      Bob   30\n",
      "2  Charlie   35\n",
      "      Name  Age\n",
      "2  Charlie   35\n",
      "0      Alice\n",
      "1        Bob\n",
      "2    Charlie\n",
      "Name: Name, dtype: object\n"
     ]
    }
   ],
   "source": [
    "#Basic operations\n",
    "\n",
    "# Sorting\n",
    "\n",
    "df1_sorted = df1.sort_values(by='Age')\n",
    "print(df1_sorted)\n",
    "\n",
    "# Filtering\n",
    "df1_filtered = df1[df1['Age'] > 30]\n",
    "print(df1_filtered)\n",
    "\n",
    "# Selecting columns\n",
    "names = df1['Name']\n",
    "print(names)\n"
   ]
  },
  {
   "cell_type": "code",
   "execution_count": 67,
   "id": "398af884-6fa2-4683-af31-5812723ea3d2",
   "metadata": {},
   "outputs": [],
   "source": [
    "#Data manipulation\n",
    "\n",
    "# Adding a column\n",
    "df1['Gender'] = ['Female', 'Male', 'Male']\n",
    "\n",
    "# Deleting a column\n",
    "del df1['Gender']\n",
    "\n",
    "# Updating a column\n",
    "df1['Age'] = df1['Age'] + 1"
   ]
  },
  {
   "cell_type": "code",
   "execution_count": 68,
   "id": "458527c9-b525-4e6e-b28b-4d1bb8c13e88",
   "metadata": {},
   "outputs": [
    {
     "name": "stdout",
     "output_type": "stream",
     "text": [
      "Name    False\n",
      "Age     False\n",
      "dtype: bool\n"
     ]
    }
   ],
   "source": [
    "# Data Cleaning and Preparation\n",
    "\n",
    "#Handling missing values\n",
    "# Drop missing values\n",
    "\n",
    "df1_cleaned = df1.dropna()\n",
    "# Fill missing values\n",
    "\n",
    "df1_filled = df1.fillna(0)\n",
    "# Check for missing values\n",
    "\n",
    "print(df1.isnull().any())"
   ]
  },
  {
   "cell_type": "code",
   "execution_count": 70,
   "id": "e8bf1eac-46d7-4d47-82fd-f7a6ca7d26e9",
   "metadata": {},
   "outputs": [
    {
     "name": "stdout",
     "output_type": "stream",
     "text": [
      "\n",
      "Min-Max Normalized DataFrame (Age):\n",
      " 0    0.0\n",
      "1    0.5\n",
      "2    1.0\n",
      "Name: Age, dtype: float64\n",
      "\n",
      "Standardized DataFrame (Age):\n",
      " 0   -1.0\n",
      "1    0.0\n",
      "2    1.0\n",
      "Name: Age, dtype: float64\n"
     ]
    }
   ],
   "source": [
    "# Data normalization(numerical value only)\n",
    "\n",
    "# Min-Max normalization\n",
    "# Min-Max normalization scales the data to a range [0, 1]\n",
    "df1_normalized = (df1['Age'] - df1['Age'].min()) / (df1['Age'].max() - df1['Age'].min())\n",
    "print(\"\\nMin-Max Normalized DataFrame (Age):\\n\", df1_normalized)\n",
    "\n",
    "# Standardization\n",
    "# Standardization scales the data to have a mean of 0 and a standard deviation of 1\n",
    "df1_standardized = (df1['Age'] - df1['Age'].mean()) / df1['Age'].std()\n",
    "print(\"\\nStandardized DataFrame (Age):\\n\", df1_standardized)"
   ]
  },
  {
   "cell_type": "code",
   "execution_count": 74,
   "id": "13036c3a-4552-4332-9bed-47ea9b53da20",
   "metadata": {},
   "outputs": [
    {
     "name": "stdout",
     "output_type": "stream",
     "text": [
      "\n",
      "DataFrame after log transformation (Age):\n",
      "       Name  Age   Log_Age\n",
      "0    Alice   26  3.258097\n",
      "1      Bob   31  3.433987\n",
      "2  Charlie   36  3.583519\n",
      "\n",
      "DataFrame after encoding 'Gender':\n",
      "       Name  Age   Log_Age  Gender_Female  Gender_Male\n",
      "0    Alice   26  3.258097           True        False\n",
      "1      Bob   31  3.433987          False         True\n",
      "2  Charlie   36  3.583519          False         True\n"
     ]
    }
   ],
   "source": [
    "# Log transformation\n",
    "# Apply log transformation to the 'Age' column\n",
    "df1['Log_Age'] = np.log(df1['Age'])\n",
    "print(\"\\nDataFrame after log transformation (Age):\\n\", df1)\n",
    "\n",
    "# Encoding categorical variables\n",
    "# Use pd.get_dummies to encode the 'Gender' column\n",
    "df1['Gender'] = ['Female', 'Male', 'Male']\n",
    "df1_encoded = pd.get_dummies(df1, columns=['Gender'])\n",
    "print(\"\\nDataFrame after encoding 'Gender':\\n\", df1_encoded)"
   ]
  },
  {
   "cell_type": "code",
   "execution_count": 78,
   "id": "e74ea458-63a4-4bae-81d5-ec6669168b87",
   "metadata": {},
   "outputs": [],
   "source": [
    "#Data aggregation and grouping\n",
    "# Group by age and calculate mean age\n",
    "age_groups = df1.groupby('Age')\n",
    "mean_age = age_groups['Age'].mean()"
   ]
  },
  {
   "cell_type": "markdown",
   "id": "f35c55ea-7237-485d-88a1-3d9f1533a294",
   "metadata": {},
   "source": [
    "## Advance Pandas "
   ]
  },
  {
   "cell_type": "code",
   "execution_count": 79,
   "id": "b3fd4b98-7dfa-46b8-b87d-132143e3919f",
   "metadata": {},
   "outputs": [],
   "source": [
    "## Merging, Joining, and Concatenating DataFrames\n",
    "\n",
    "# Concatenating DataFrames\n",
    "\n",
    "import pandas as pd\n",
    "\n",
    "# Create sample DataFrames\n",
    "\n",
    "df1 = pd.DataFrame({'A': ['A0', 'A1', 'A2'],\n",
    " 'B': ['B0', 'B1', 'B2']})\n",
    "\n",
    "df2 = pd.DataFrame({'A': ['A3', 'A4', 'A5'],\n",
    " 'B': ['B3', 'B4', 'B5']})\n",
    "\n",
    "# Concatenate along rows\n",
    "\n",
    "result_row = pd.concat([df1, df2])\n",
    "\n",
    "# Concatenate along columns\n",
    "\n",
    "result_col = pd.concat([df1, df2], axis=1)"
   ]
  },
  {
   "cell_type": "code",
   "execution_count": 81,
   "id": "5573c4ca-6310-426f-804b-5d01bea70f07",
   "metadata": {},
   "outputs": [
    {
     "name": "stdout",
     "output_type": "stream",
     "text": [
      "Left DataFrame:\n",
      "   key value\n",
      "0  K0    V0\n",
      "1  K1    V1\n",
      "2  K2    V2\n",
      "\n",
      "Right DataFrame:\n",
      "   key value\n",
      "0  K1    V1\n",
      "1  K2    V2\n",
      "2  K3    V3\n",
      "\n",
      "Inner Join:\n",
      "   key value_x value_y\n",
      "0  K1      V1      V1\n",
      "1  K2      V2      V2\n",
      "\n",
      "Left Join:\n",
      "   key value_x value_y\n",
      "0  K0      V0     NaN\n",
      "1  K1      V1      V1\n",
      "2  K2      V2      V2\n",
      "\n",
      "Right Join:\n",
      "   key value_x value_y\n",
      "0  K1      V1      V1\n",
      "1  K2      V2      V2\n",
      "2  K3     NaN      V3\n",
      "\n",
      "Outer Join:\n",
      "   key value_x value_y\n",
      "0  K0      V0     NaN\n",
      "1  K1      V1      V1\n",
      "2  K2      V2      V2\n",
      "3  K3     NaN      V3\n"
     ]
    }
   ],
   "source": [
    "#Merging DataFrames\n",
    "\n",
    "# Create sample DataFrames\n",
    "\n",
    "# Creating the 'left' DataFrame\n",
    "left = pd.DataFrame({'key': ['K0', 'K1', 'K2'],\n",
    "                     'value': ['V0', 'V1', 'V2']})\n",
    "print(\"Left DataFrame:\\n\", left)\n",
    "\n",
    "# Creating the 'right' DataFrame\n",
    "right = pd.DataFrame({'key': ['K1', 'K2', 'K3'],\n",
    "                      'value': ['V1', 'V2', 'V3']})\n",
    "print(\"\\nRight DataFrame:\\n\", right)\n",
    "\n",
    "# Inner join\n",
    "\n",
    "# Perform inner join on 'key' column\n",
    "# Only the rows with matching keys in both DataFrames are included in the result\n",
    "inner_join = pd.merge(left, right, on='key', how='inner')\n",
    "print(\"\\nInner Join:\\n\", inner_join)\n",
    "\n",
    "# Left join\n",
    "\n",
    "# Perform left join on 'key' column\n",
    "# All rows from the left DataFrame are included, with matching rows from the right DataFrame\n",
    "# Non-matching rows from the right DataFrame have NaN values\n",
    "left_join = pd.merge(left, right, on='key', how='left')\n",
    "print(\"\\nLeft Join:\\n\", left_join)\n",
    "\n",
    "# Right join\n",
    "\n",
    "# Perform right join on 'key' column\n",
    "# All rows from the right DataFrame are included, with matching rows from the left DataFrame\n",
    "# Non-matching rows from the left DataFrame have NaN values\n",
    "right_join = pd.merge(left, right, on='key', how='right')\n",
    "print(\"\\nRight Join:\\n\", right_join)\n",
    "\n",
    "# Outer join\n",
    "\n",
    "# Perform outer join on 'key' column\n",
    "# All rows from both DataFrames are included\n",
    "# Non-matching rows have NaN values in place of missing values from the other DataFrame\n",
    "outer_join = pd.merge(left, right, on='key', how='outer')\n",
    "print(\"\\nOuter Join:\\n\", outer_join)\n"
   ]
  },
  {
   "cell_type": "code",
   "execution_count": 83,
   "id": "5b8abdb6-bc4e-4f74-bdab-6563c855b5ff",
   "metadata": {},
   "outputs": [
    {
     "name": "stdout",
     "output_type": "stream",
     "text": [
      "Join based on index:\n",
      "    value1  value2\n",
      "a       1       4\n",
      "b       2       5\n"
     ]
    }
   ],
   "source": [
    "#Joining DataFrames\n",
    "\n",
    "# Create sample DataFrames\n",
    "\n",
    "left = pd.DataFrame({'value1': [1, 2, 3]}, index=['a', 'b', 'c'])\n",
    "right = pd.DataFrame({'value2': [4, 5, 6]}, index=['a', 'b', 'd'])\n",
    "\n",
    "# Join based on index\n",
    "\n",
    "join_df = left.join(right, how='inner')\n",
    "\n",
    "print(\"Join based on index:\\n\", join_df)"
   ]
  },
  {
   "cell_type": "markdown",
   "id": "34d27a01-c68e-4257-8ee0-bc22fb5a8b43",
   "metadata": {},
   "source": [
    "### Technical level questions and excercises"
   ]
  },
  {
   "cell_type": "code",
   "execution_count": 84,
   "id": "be22218e-0370-4191-a4a9-9c7af96c073a",
   "metadata": {},
   "outputs": [],
   "source": [
    "###Implementing Matrix Operations: Matrix Multiplication\n",
    "import numpy as np\n",
    "# Create two matrices\n",
    "A = np.array([[1, 2], [3, 4]])\n",
    "B = np.array([[5, 6], [7, 8]])"
   ]
  },
  {
   "cell_type": "code",
   "execution_count": 85,
   "id": "b2cb7c9e-423c-4716-beaf-342119d2e300",
   "metadata": {},
   "outputs": [
    {
     "name": "stdout",
     "output_type": "stream",
     "text": [
      "[[19 22]\n",
      " [43 50]]\n"
     ]
    }
   ],
   "source": [
    "## Question: Multiply matrices A and B.\n",
    "# Answer\n",
    "C = np.dot(A, B)\n",
    "print(C) # Output: [[19 22] [43 50]]"
   ]
  },
  {
   "cell_type": "code",
   "execution_count": 86,
   "id": "006e74b2-451d-40f6-8772-aba3944ecc12",
   "metadata": {},
   "outputs": [
    {
     "name": "stdout",
     "output_type": "stream",
     "text": [
      "[[-2.   1. ]\n",
      " [ 1.5 -0.5]]\n"
     ]
    }
   ],
   "source": [
    "## Question: Matrix Inversion - Find the inverse of matrix A.\n",
    "# Answer\n",
    "A_inv = np.linalg.inv(A)\n",
    "print(A_inv) # Output: [[-2. 1.] [ 1.5 -0.5]]"
   ]
  },
  {
   "cell_type": "code",
   "execution_count": 87,
   "id": "24da7291-d0b4-400e-8766-5f58a978e177",
   "metadata": {},
   "outputs": [
    {
     "name": "stdout",
     "output_type": "stream",
     "text": [
      "Eigenvalues:\n",
      " [-0.37228132  5.37228132]\n",
      "\n",
      "Eigenvectors:\n",
      " [[-0.82456484 -0.41597356]\n",
      " [ 0.56576746 -0.90937671]]\n"
     ]
    }
   ],
   "source": [
    "## Question: Calculate the eigenvalues and eigenvectors of matrix A.\n",
    "# Answer\n",
    "eigenvalues, eigenvectors = np.linalg.eig(A)\n",
    "print(\"Eigenvalues:\\n\",eigenvalues) # Output: [5.37228132 -0.37228132]\n",
    "print(\"\\nEigenvectors:\\n\",eigenvectors)"
   ]
  },
  {
   "cell_type": "code",
   "execution_count": 88,
   "id": "eab442fc-f316-4c9a-81ec-b56dc5809789",
   "metadata": {},
   "outputs": [
    {
     "name": "stdout",
     "output_type": "stream",
     "text": [
      "[2. 3.]\n",
      "[2. 3.]\n"
     ]
    }
   ],
   "source": [
    "## Question: Solve the system of equations 3x + y = 9 and x + 2y = 8.\n",
    "# Solving a system of linear equations\n",
    "A = np.array([[3, 1], [1, 2]])\n",
    "b = np.array([9, 8])\n",
    "x = np.linalg.solve(A, b)\n",
    "print(x)\n",
    "# Answer\n",
    "x = np.linalg.solve(A, b)\n",
    "print(x) # Output: [2. 3.]"
   ]
  },
  {
   "cell_type": "code",
   "execution_count": 90,
   "id": "37fceb37-3c33-4c95-bc36-5e2b6686d2a5",
   "metadata": {},
   "outputs": [
    {
     "name": "stdout",
     "output_type": "stream",
     "text": [
      "Array:\n",
      " [[1 2 3]\n",
      " [4 5 6]\n",
      " [7 8 9]]\n",
      "\n",
      "Selected Elements:\n",
      " [4 8]\n"
     ]
    }
   ],
   "source": [
    "# Define the 2D array\n",
    "arr15 = np.array([[1, 2, 3],\n",
    " [4, 5, 6],\n",
    " [7, 8, 9]])\n",
    "print(\"Array:\\n\",arr15)\n",
    "# Define row and column indices\n",
    "row_indices = np.array([1, 2])\n",
    "column_indices = np.array([0, 1])\n",
    "# Use a tuple for fancy indexing\n",
    "selected_elements = arr15[(row_indices, column_indices)]\n",
    "print(\"\\nSelected Elements:\\n\", selected_elements)\n"
   ]
  },
  {
   "cell_type": "markdown",
   "id": "a3123b19-4b81-4a7c-a03d-b80360e274b7",
   "metadata": {},
   "source": [
    "# NumPy Practice Questions\n",
    "\n",
    "1. **Array Creation**: Create a NumPy array of integers from 1 to 10.\n",
    "\n",
    "2. **Array Operations**: Perform element-wise addition, subtraction, multiplication, and division on two NumPy arrays.\n",
    "\n",
    "3. **Array Slicing**: Extract the first three elements from a NumPy array.\n",
    "\n",
    "4. **Array Reshaping**: Reshape a 1D NumPy array into a 2D array with 2 rows and 3 columns.\n",
    "\n",
    "5. **Array Aggregation**: Calculate the mean, median, and standard deviation of a NumPy array.\n"
   ]
  },
  {
   "cell_type": "markdown",
   "id": "99b9a26e-055c-4118-a983-ca9b2721ba93",
   "metadata": {},
   "source": [
    "1. **Array Creation**:"
   ]
  },
  {
   "cell_type": "code",
   "execution_count": 93,
   "id": "c8bb1f9b-2378-46d9-b736-dcdcc4d26aa2",
   "metadata": {},
   "outputs": [
    {
     "name": "stdout",
     "output_type": "stream",
     "text": [
      "[ 1  2  3  4  5  6  7  8  9 10]\n"
     ]
    }
   ],
   "source": [
    "array = np.array([i for i in range(1, 11)])\n",
    "print(array)"
   ]
  },
  {
   "cell_type": "markdown",
   "id": "5443ac5a-540e-4a14-8b52-d7c53210f456",
   "metadata": {},
   "source": [
    "2. **Array Operations**:"
   ]
  },
  {
   "cell_type": "code",
   "execution_count": 101,
   "id": "d9c6f7ba-a206-478f-a614-7069adc8fff8",
   "metadata": {},
   "outputs": [
    {
     "name": "stdout",
     "output_type": "stream",
     "text": [
      "Addition:\n",
      " [12 14 16 18 20 22 24 26 28 30]\n",
      "Substraction:\n",
      " [-10 -10 -10 -10 -10 -10 -10 -10 -10 -10]\n",
      "Multiplication:\n",
      " [ 11  24  39  56  75  96 119 144 171 200]\n",
      "Division:\n",
      " [0.09090909 0.16666667 0.23076923 0.28571429 0.33333333 0.375\n",
      " 0.41176471 0.44444444 0.47368421 0.5       ]\n"
     ]
    }
   ],
   "source": [
    "array_1=np.array([i for i in range(1, 11)])\n",
    "array_2=np.array([i for i in range(11, 21)])\n",
    "\n",
    "# Element-wise addition\n",
    "\n",
    "Addition=array_1+array_2\n",
    "\n",
    "print(\"Addition:\\n\", Addition)\n",
    "\n",
    "# Substraction\n",
    "\n",
    "Subtraction=array_1-array_2\n",
    "\n",
    "print(\"Substraction:\\n\", Subtraction)\n",
    "\n",
    "# Multiplication:\n",
    "\n",
    "Multiplication=array_1*array_2\n",
    "\n",
    "print(\"Multiplication:\\n\",Multiplication)\n",
    "\n",
    "# Division:\n",
    "\n",
    "Division=array_1/array_2\n",
    "\n",
    "print(\"Division:\\n\",Division)\n",
    "\n"
   ]
  },
  {
   "cell_type": "markdown",
   "id": "941c3672-d047-4336-9caf-45b886dd8bfa",
   "metadata": {},
   "source": [
    "3. **Array Slicing**: "
   ]
  },
  {
   "cell_type": "code",
   "execution_count": 105,
   "id": "127c66ad-e2a9-472a-bef6-11648a4d8842",
   "metadata": {},
   "outputs": [
    {
     "name": "stdout",
     "output_type": "stream",
     "text": [
      "[1 2 3]\n"
     ]
    }
   ],
   "source": [
    "array = np.array([i for i in range(1, 11)])\n",
    "\n",
    "print(array[0:3,])"
   ]
  },
  {
   "cell_type": "markdown",
   "id": "e323fcc7-8cdb-46e9-b0b3-2b41c3296c98",
   "metadata": {},
   "source": [
    "4. **Array Reshaping**:"
   ]
  },
  {
   "cell_type": "code",
   "execution_count": 107,
   "id": "43b0960c-260d-4357-96cf-09733b2b5a57",
   "metadata": {},
   "outputs": [
    {
     "name": "stdout",
     "output_type": "stream",
     "text": [
      "Reshapesd array, with 2 rows and 3 columns:\n",
      " [[1 2 3]\n",
      " [4 5 6]]\n"
     ]
    }
   ],
   "source": [
    "# 2 rows and 3 columns\n",
    "\n",
    "array = np.array([i for i in range(1, 7)])\n",
    "\n",
    "array=array.reshape(2,3)\n",
    "\n",
    "print(\"Reshapesd array, with 2 rows and 3 columns:\\n\", array)"
   ]
  },
  {
   "cell_type": "markdown",
   "id": "98b23963-a60a-49d9-b2cc-f826f5dba4e2",
   "metadata": {},
   "source": [
    "5. **Array Aggregation**:"
   ]
  },
  {
   "cell_type": "code",
   "execution_count": 118,
   "id": "55a38190-38d6-4c39-8a6d-e2d0841b8d88",
   "metadata": {},
   "outputs": [
    {
     "name": "stdout",
     "output_type": "stream",
     "text": [
      "Array of first 100 prime numbers:\n",
      " [[  2   3   5   7  11  13  17  19  23  29  31  37  41  43  47  53  59  61\n",
      "   67  71  73  79  83  89  97 101 103 107 109 113 127 131 137 139 149 151\n",
      "  157 163 167 173 179 181 191 193 197 199 211 223 227 229 233 239 241 251\n",
      "  257 263 269 271 277 281 283 293 307 311 313 317 331 337 347 349 353 359\n",
      "  367 373 379 383 389 397 401 409 419 421 431 433 439 443 449 457 461 463\n",
      "  467 479 487 491 499 503 509 521 523 541]]\n",
      "\n",
      "Mean of Array:\n",
      " 241.33\n",
      "\n",
      "Median of Array:\n",
      " 231.0\n",
      "\n",
      "Standard Deviation of Array:\n",
      " 160.02218939884557\n"
     ]
    }
   ],
   "source": [
    "from sympy import primerange # I use this to identify the prime numbers\n",
    "\n",
    "# Generate list of first 100 prime numbers \n",
    "\n",
    "array = np.array([list(primerange(1,1000))[:100]]) #From a list of numbers\n",
    "                                                    #from 1 to 1000, \n",
    "                                                    #I want the first 100\n",
    "                                                    #numbers that are prime numbers\n",
    "print(\"Array of first 100 prime numbers:\\n\",array)\n",
    "print(\"\\nMean of Array:\\n\", np.mean(array))\n",
    "print(\"\\nMedian of Array:\\n\", np.median(array))\n",
    "print(\"\\nStandard Deviation of Array:\\n\", np.std(array))"
   ]
  },
  {
   "cell_type": "code",
   "execution_count": 116,
   "id": "26f93a57-2643-4fae-a920-4cba2be23f14",
   "metadata": {},
   "outputs": [
    {
     "name": "stdout",
     "output_type": "stream",
     "text": [
      "[[  2   3   5   7  11  13  17  19  23  29  31  37  41  43  47  53  59  61\n",
      "   67  71  73  79  83  89  97 101 103 107 109 113 127 131 137 139 149 151\n",
      "  157 163 167 173 179 181 191 193 197 199 211 223 227 229 233 239 241 251\n",
      "  257 263 269 271 277 281 283 293 307 311 313 317 331 337 347 349 353 359\n",
      "  367 373 379 383 389 397 401 409 419 421 431 433 439 443 449 457 461 463\n",
      "  467 479 487 491 499 503 509 521 523 541]]\n"
     ]
    }
   ],
   "source": [
    "print(array)"
   ]
  },
  {
   "cell_type": "markdown",
   "id": "64e3c22d-efeb-4b5c-94bf-cf8b0c44d0f3",
   "metadata": {},
   "source": [
    "# Pandas Practice Questions:\r\n",
    "\r\n",
    "1. **DataFrame Creation**: Create a pandas DataFrame from a dictionary of lists, where each list represents a column.\r\n",
    "\r\n",
    "2. **DataFrame Operations**: Add a new column to an existing DataFrame. Perform element-wise operations between two columns.\r\n",
    "\r\n",
    "3. **Data Selection**: Select rows based on a condition. Select specific columns from a DataFrame.\r\n",
    "\r\n",
    "4. **Data Aggregation**: Group the data in a DataFrame based on a categorical column and calculate the mean of each group.\r\n",
    "\r\n",
    "5. **Data Cleaning**: Handle missing values by either removing them or replacing them with appropriate values.\r\n",
    "ate values"
   ]
  },
  {
   "cell_type": "markdown",
   "id": "d7624807-fef8-4bd2-b716-b715e7cd0f6c",
   "metadata": {},
   "source": [
    "1. **DataFrame Creation**:"
   ]
  },
  {
   "cell_type": "code",
   "execution_count": 133,
   "id": "7d556fc5-c6bb-43be-b538-c13d838bee4a",
   "metadata": {},
   "outputs": [
    {
     "name": "stdout",
     "output_type": "stream",
     "text": [
      "     Student  Age   GPA\n",
      "0     Carlos   25  3.20\n",
      "1  Alejandro   26  3.80\n",
      "2    Richard   25  4.00\n",
      "3       Subi   22  3.76\n"
     ]
    }
   ],
   "source": [
    "import pandas as pd\n",
    "\n",
    "data={\"Student\": [\"Carlos\",\"Alejandro\",\"Richard\",\"Subi\"],\n",
    "      \"Age\": [25,26,25,22],\n",
    "     \"GPA\":[3.2,3.8,4.0,3.76]}\n",
    "\n",
    "dataframe=pd.DataFrame(data)\n",
    "\n",
    "print(dataframe)"
   ]
  },
  {
   "cell_type": "markdown",
   "id": "e530b18b-14d0-4be2-a924-5a770e7694c3",
   "metadata": {},
   "source": [
    "2. **DataFrame Operations**: "
   ]
  },
  {
   "cell_type": "code",
   "execution_count": 134,
   "id": "356d96a1-f6ba-4a0e-bd68-a772965ff433",
   "metadata": {},
   "outputs": [
    {
     "name": "stdout",
     "output_type": "stream",
     "text": [
      "     Student  Age   GPA Country\n",
      "0     Carlos   25  3.20  Mexico\n",
      "1  Alejandro   26  3.80  Mexico\n",
      "2    Richard   25  4.00     USA\n",
      "3       Subi   22  3.76     USA\n"
     ]
    }
   ],
   "source": [
    "# Add a new column to an existing Data Frame\n",
    "\n",
    "dataframe[\"Country\"]=[\"Mexico\", \"Mexico\", \"USA\", \"USA\"]\n",
    "print(dataframe)"
   ]
  },
  {
   "cell_type": "code",
   "execution_count": 135,
   "id": "b5c7f771-9cb3-45d5-a81e-14a0ddb2ca3c",
   "metadata": {},
   "outputs": [
    {
     "name": "stdout",
     "output_type": "stream",
     "text": [
      "     Student  Age   GPA Country  Age_Greater_Than_GPA  Age_GPA_Ratio\n",
      "0     Carlos   25  3.20  Mexico                  True       7.812500\n",
      "1  Alejandro   26  3.80  Mexico                  True       6.842105\n",
      "2    Richard   25  4.00     USA                  True       6.250000\n",
      "3       Subi   22  3.76     USA                  True       5.851064\n"
     ]
    }
   ],
   "source": [
    "# Perform element-wise operations between two columns.\n",
    "\n",
    "dataframe['Age_Greater_Than_GPA'] = dataframe['Age'] > dataframe['GPA']\n",
    "\n",
    "dataframe['Age_GPA_Ratio'] = dataframe['Age'] / dataframe['GPA']\n",
    "\n",
    "print(dataframe)"
   ]
  },
  {
   "cell_type": "markdown",
   "id": "1495152d-d625-4b4d-a3b6-d06277a69159",
   "metadata": {},
   "source": [
    "3. **Data Selection**:"
   ]
  },
  {
   "cell_type": "code",
   "execution_count": 136,
   "id": "3b7ee98a-03a5-4cf3-8e1e-071d3240de2e",
   "metadata": {},
   "outputs": [
    {
     "name": "stdout",
     "output_type": "stream",
     "text": [
      "     Student  Age  GPA Country  Age_Greater_Than_GPA  Age_GPA_Ratio\n",
      "1  Alejandro   26  3.8  Mexico                  True       6.842105\n",
      "2    Richard   25  4.0     USA                  True       6.250000\n"
     ]
    }
   ],
   "source": [
    "# Select rows based on a condition. Select specific columns from a DataFrame.\n",
    "\n",
    "# Filter the dataframe to include only rows where GPA is greater than percentile 50\n",
    "\n",
    "dataframe_filtered=dataframe[dataframe[\"GPA\"]>np.percentile(dataframe[\"GPA\"], 50)]\n",
    "\n",
    "print(dataframe_filtered)"
   ]
  },
  {
   "cell_type": "markdown",
   "id": "5bcc6e15-193d-4fb6-b3c1-bc6214b55774",
   "metadata": {},
   "source": [
    "4. **Data Aggregation**: "
   ]
  },
  {
   "cell_type": "code",
   "execution_count": 141,
   "id": "8bd91c8e-01d1-4a7d-8a8a-48860b1cd6e3",
   "metadata": {},
   "outputs": [
    {
     "name": "stdout",
     "output_type": "stream",
     "text": [
      "\n",
      "Mean GPA by Country:\n",
      "           Age   GPA\n",
      "Country            \n",
      "Mexico   25.5  3.50\n",
      "USA      23.5  3.88\n"
     ]
    }
   ],
   "source": [
    "# Group the data in a DataFrame based on a categorical column \n",
    "# and calculate the mean of each group.\n",
    "\n",
    "grouped_data = dataframe.groupby(\"Country\")[[\"Age\", \"GPA\"]].mean()\n",
    "\n",
    "print(\"\\nMean GPA by Country:\\n\", grouped_data)"
   ]
  },
  {
   "cell_type": "markdown",
   "id": "7448a321-776b-4752-b980-87de8bd0a7ec",
   "metadata": {},
   "source": [
    "5. **Data Cleaning**:"
   ]
  },
  {
   "cell_type": "code",
   "execution_count": 142,
   "id": "4adca0f0-2240-4ef2-a22a-2267d5c77050",
   "metadata": {},
   "outputs": [
    {
     "name": "stdout",
     "output_type": "stream",
     "text": [
      "Student                 False\n",
      "Age                     False\n",
      "GPA                     False\n",
      "Country                 False\n",
      "Age_Greater_Than_GPA    False\n",
      "Age_GPA_Ratio           False\n",
      "dtype: bool\n"
     ]
    }
   ],
   "source": [
    "# Data Cleaning and Preparation\n",
    "\n",
    "#Handling missing values\n",
    "# Drop missing values\n",
    "\n",
    "dataframe_cleaned = dataframe.dropna()\n",
    "# Fill missing values\n",
    "\n",
    "dataframe_filled = dataframe.fillna(0)\n",
    "# Check for missing values\n",
    "\n",
    "print(dataframe.isnull().any())"
   ]
  }
 ],
 "metadata": {
  "kernelspec": {
   "display_name": "Python 3 (ipykernel)",
   "language": "python",
   "name": "python3"
  },
  "language_info": {
   "codemirror_mode": {
    "name": "ipython",
    "version": 3
   },
   "file_extension": ".py",
   "mimetype": "text/x-python",
   "name": "python",
   "nbconvert_exporter": "python",
   "pygments_lexer": "ipython3",
   "version": "3.11.7"
  }
 },
 "nbformat": 4,
 "nbformat_minor": 5
}
